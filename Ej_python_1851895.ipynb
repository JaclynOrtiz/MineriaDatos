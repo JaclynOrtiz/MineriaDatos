{
  "nbformat": 4,
  "nbformat_minor": 0,
  "metadata": {
    "colab": {
      "name": "Ej_python_1851895.ipynb",
      "provenance": [],
      "authorship_tag": "ABX9TyOAi1uAmO1f/ggY3dHkID1C",
      "include_colab_link": true
    },
    "kernelspec": {
      "name": "python3",
      "display_name": "Python 3"
    },
    "language_info": {
      "name": "python"
    }
  },
  "cells": [
    {
      "cell_type": "markdown",
      "metadata": {
        "id": "view-in-github",
        "colab_type": "text"
      },
      "source": [
        "<a href=\"https://colab.research.google.com/github/JaclynOrtiz/MineriaDatos/blob/main/Ej_python_1851895.ipynb\" target=\"_parent\"><img src=\"https://colab.research.google.com/assets/colab-badge.svg\" alt=\"Open In Colab\"/></a>"
      ]
    },
    {
      "cell_type": "markdown",
      "metadata": {
        "id": "zQOYM23dJWmj"
      },
      "source": [
        "**EJERCICIO 1**\n",
        " \n"
      ]
    },
    {
      "cell_type": "code",
      "metadata": {
        "colab": {
          "base_uri": "https://localhost:8080/"
        },
        "id": "nhKFdRJLJaBF",
        "outputId": "62fa3962-fc53-459f-ddc0-b1680a2e9933"
      },
      "source": [
        "# Realiza una variable con tu matricula y realiza una secuencia de imprimir con tu nombre y tu matricula concatenados.\n",
        "mat = 1851895\n",
        "nom = \"Jaclyn Lizeth Ortiz Cruz\"\n",
        "print(f\"{str(mat)} - {nom}\")"
      ],
      "execution_count": 11,
      "outputs": [
        {
          "output_type": "stream",
          "text": [
            "1851895 - Jaclyn Lizeth Ortiz Cruz\n"
          ],
          "name": "stdout"
        }
      ]
    },
    {
      "cell_type": "markdown",
      "metadata": {
        "id": "Yu8eMRRnL810"
      },
      "source": [
        "**EJERCICIO 2**\n"
      ]
    },
    {
      "cell_type": "code",
      "metadata": {
        "colab": {
          "base_uri": "https://localhost:8080/"
        },
        "id": "clU1eMo49zoe",
        "outputId": "6e15fcb0-f0ee-45a0-8267-04286ad85c9b"
      },
      "source": [
        "# Pidiendo el input del usuario pide dos números y crea una pequeña calculadora con los operadores básicos de suma, resta, multiplicación, división, y exponente.\n",
        "n1 = float(input(\"Introduce un primer número: \" ))\n",
        "n2 = float(input(\"Introduce un segundo número: \"))\n",
        "\n",
        "suma = n1+n2\n",
        "resta = n1-n2\n",
        "mult = n1*n2\n",
        "div = n1/n2\n",
        "exp = n1**n2\n",
        "\n",
        "print(\"Suma: \", suma)\n",
        "print(\"Resta: \", resta)\n",
        "print(\"Multiplicación: \", mult)\n",
        "print(\"División: \", div)\n",
        "print(\"Exponente: \", exp)\n",
        "\n"
      ],
      "execution_count": 20,
      "outputs": [
        {
          "output_type": "stream",
          "text": [
            "Introduce un primer número: 2\n",
            "Introduce un segundo número: 3\n",
            "Suma:  5.0\n",
            "Resta:  -1.0\n",
            "Multiplicación:  6.0\n",
            "División:  0.6666666666666666\n",
            "Exponente:  8.0\n"
          ],
          "name": "stdout"
        }
      ]
    },
    {
      "cell_type": "markdown",
      "metadata": {
        "id": "yHhAtOCQ_etx"
      },
      "source": [
        "**EJERCICIO 3**\n"
      ]
    },
    {
      "cell_type": "code",
      "metadata": {
        "colab": {
          "base_uri": "https://localhost:8080/"
        },
        "id": "vnKENGrC_inO",
        "outputId": "36b3b417-e92a-4201-c2ad-e68b67e9d3bf"
      },
      "source": [
        "# Con loop while o for, realiza una lista de 10 numeros multiplos de 3, y después realiza una función de loop que sume todos los números dentro del arreglo.\n",
        "a = 0\n",
        "suma = 0\n",
        "for i in range(1,11):\n",
        "  a = 3*i\n",
        "  suma = a+suma\n",
        "  print(a)\n",
        "print(\"La suma del arreglo es: \",suma)"
      ],
      "execution_count": 37,
      "outputs": [
        {
          "output_type": "stream",
          "text": [
            "3\n",
            "6\n",
            "9\n",
            "12\n",
            "15\n",
            "18\n",
            "21\n",
            "24\n",
            "27\n",
            "30\n",
            "La suma del arreglo es:  165\n"
          ],
          "name": "stdout"
        }
      ]
    },
    {
      "cell_type": "markdown",
      "metadata": {
        "id": "HVKPYwCqKp0a"
      },
      "source": [
        "**EJERCICIO 4**\n"
      ]
    },
    {
      "cell_type": "code",
      "metadata": {
        "colab": {
          "base_uri": "https://localhost:8080/"
        },
        "id": "uqXbpDXqKtTa",
        "outputId": "07ad87bd-7ee6-4e0e-9ec3-c58cacdf9348"
      },
      "source": [
        "# Con una función de if else, revisar si un número es par o es impar.\n",
        "num = int(input(\"Introduce un número: \"))\n",
        "if num % 2 == 0:\n",
        "  print(\"El número %d es par\" %num)\n",
        "else:\n",
        "  print(\"El número %d es impar\" %num)"
      ],
      "execution_count": 90,
      "outputs": [
        {
          "output_type": "stream",
          "text": [
            "Introduce un número: 5\n",
            "El número 5 es impar\n"
          ],
          "name": "stdout"
        }
      ]
    },
    {
      "cell_type": "code",
      "metadata": {
        "colab": {
          "base_uri": "https://localhost:8080/"
        },
        "id": "7bZCcAklMwdx",
        "outputId": "b6d399aa-9fd6-453d-c7f3-927ddca70a26"
      },
      "source": [
        "# Con una función de if else, revisar si un número es primo o no.\n",
        "numero = int(input(\"Introduce un número: \"))\n",
        "def es_primo(num):\n",
        "  if num < 2:\n",
        "    return False\n",
        "\n",
        "  for i in range(2,num):\n",
        "    if num % i == 0:\n",
        "      return False\n",
        "  return True\n",
        "\n",
        "print(es_primo(numero))"
      ],
      "execution_count": 6,
      "outputs": [
        {
          "output_type": "stream",
          "text": [
            "Introduce un número: 78\n",
            "False\n"
          ],
          "name": "stdout"
        }
      ]
    },
    {
      "cell_type": "markdown",
      "metadata": {
        "id": "xUspS-Vd-BHO"
      },
      "source": [
        "**EJERCICIO 5**"
      ]
    },
    {
      "cell_type": "code",
      "metadata": {
        "colab": {
          "base_uri": "https://localhost:8080/"
        },
        "id": "N8U_BGbz-6tb",
        "outputId": "a701c1f2-286b-4974-bb5f-cee9260456f5"
      },
      "source": [
        "def calcular(a,b):\n",
        "  suma=a+b\n",
        "  resta=a-b\n",
        "  mult=a*b\n",
        "  div=a/b\n",
        "  exp=a**b\n",
        "  print(\"Suma: \",suma)\n",
        "  print(\"Resta: \",resta)\n",
        "  print(\"Multiplicacion: \",mult)\n",
        "  print(\"Division: \",div)\n",
        "  print(\"Exponente: \",exp)\n",
        "\n",
        "calcular(3.5,5)"
      ],
      "execution_count": 40,
      "outputs": [
        {
          "output_type": "stream",
          "text": [
            "Suma:  8.5\n",
            "Resta:  -1.5\n",
            "Multiplicacion:  17.5\n",
            "Division:  0.7\n",
            "Exponente:  525.21875\n"
          ],
          "name": "stdout"
        }
      ]
    },
    {
      "cell_type": "markdown",
      "metadata": {
        "id": "nt4-kKJ4A9K2"
      },
      "source": [
        "**Tuplas**"
      ]
    },
    {
      "cell_type": "code",
      "metadata": {
        "colab": {
          "base_uri": "https://localhost:8080/"
        },
        "id": "kfS8ESzhBFOP",
        "outputId": "e9e51d21-9502-4131-a11b-2ba4cf016f10"
      },
      "source": [
        "# Crear una variable flotante, integer, boleana y compleja e imprimir el tipo de variable que es.\n",
        "x = 1\n",
        "y = 2.4\n",
        "z = True\n",
        "u = 3j+1\n",
        "print(\"La variable %d es de tipo: \" %x, type (x))\n",
        "print(\"La variable %f es de tipo: \" %y, type (y))\n",
        "print(\"La variable %s es de tipo: \" %z, type (z))\n",
        "print(\"La variable %s es de tipo: \" %u, type (u))"
      ],
      "execution_count": 45,
      "outputs": [
        {
          "output_type": "stream",
          "text": [
            "La variable 1 es de tipo:  <class 'int'>\n",
            "La variable 2.400000 es de tipo:  <class 'float'>\n",
            "La variable True es de tipo:  <class 'bool'>\n",
            "La variable (1+3j) es de tipo:  <class 'complex'>\n"
          ],
          "name": "stdout"
        }
      ]
    },
    {
      "cell_type": "code",
      "metadata": {
        "colab": {
          "base_uri": "https://localhost:8080/"
        },
        "id": "tzPrh8QLBNJm",
        "outputId": "5177ea31-2a04-44fd-c410-7bdf4cd4c983"
      },
      "source": [
        "# Crear una tupla con valores enteros imprimir el primer y ultimo valor.\n",
        "t = (1,2,3,4,5)\n",
        "type(t) \n",
        "v1 = t[0] # extraer el primer valor de la tupla\n",
        "v2 = t[-1] # extraer el ultimo valor de la tupla\n",
        "\n",
        "print(\"El numero %d es el primer valor de la tupla\" %v1)\n",
        "print(\"El numero %d es el ultimo valor de la tupla\" %v2)"
      ],
      "execution_count": 91,
      "outputs": [
        {
          "output_type": "stream",
          "text": [
            "El numero 1 es el primer valor de la tupla\n",
            "El numero 5 es el ultimo valor de la tupla\n"
          ],
          "name": "stdout"
        }
      ]
    },
    {
      "cell_type": "code",
      "metadata": {
        "colab": {
          "base_uri": "https://localhost:8080/"
        },
        "id": "DHicWPqABQll",
        "outputId": "1b696827-072d-43c2-83cb-7c7b7beded58"
      },
      "source": [
        "# Añadir 3 valores de string a la tupla.\n",
        "t = (1,2,3,4,5)\n",
        "t = t.__add__(('a','b','c',))\n",
        "t"
      ],
      "execution_count": 99,
      "outputs": [
        {
          "output_type": "execute_result",
          "data": {
            "text/plain": [
              "(1, 2, 3, 4, 5, 'a', 'b', 'c')"
            ]
          },
          "metadata": {},
          "execution_count": 99
        }
      ]
    },
    {
      "cell_type": "code",
      "metadata": {
        "colab": {
          "base_uri": "https://localhost:8080/"
        },
        "id": "A53GzElcBU-M",
        "outputId": "4e99b21c-16d9-42fa-8187-c5fb483dc33d"
      },
      "source": [
        "# Verificar si una variable existe dentro de la tupla.\n",
        "t = (1,2,3,4,5)\n",
        "'a' in t"
      ],
      "execution_count": 103,
      "outputs": [
        {
          "output_type": "execute_result",
          "data": {
            "text/plain": [
              "False"
            ]
          },
          "metadata": {},
          "execution_count": 103
        }
      ]
    },
    {
      "cell_type": "markdown",
      "metadata": {
        "id": "x3ScMkFKBY69"
      },
      "source": [
        "**Listas**"
      ]
    },
    {
      "cell_type": "code",
      "metadata": {
        "id": "eqQi4HvOBbY0"
      },
      "source": [
        "# Crear una lista con 40 elementos aleatorios enteros.\n",
        "for i in range(1,100):\n",
        "  a = i\n",
        "  import random\n",
        "  print (random.randint(1,40))"
      ],
      "execution_count": null,
      "outputs": []
    },
    {
      "cell_type": "markdown",
      "metadata": {
        "id": "mRxYhnqHPtc-"
      },
      "source": [
        "Con una funcion (def) crear dos listas nuevas a partir de la lista creada por numeros aleatorios, en la cual en una esten los elementos pares, y en la otra los elementos impares."
      ]
    },
    {
      "cell_type": "code",
      "metadata": {
        "colab": {
          "base_uri": "https://localhost:8080/"
        },
        "id": "AUSvj_ahP3RN",
        "outputId": "bb6a8b4c-67d3-455b-b993-f95871c360aa"
      },
      "source": [
        "#NUMEROS PARES\n",
        "def pares(x):\n",
        "    par = []\n",
        "    for n in x:\n",
        "        if n % 2 == 0:\n",
        "            par.append(n)     \n",
        "    return par\n",
        "a = pares(L)\n",
        "#NUMEROS IMPARES\n",
        "def impares(x):\n",
        "    imp = []\n",
        "    for n in x:\n",
        "        if n % 2 != 0:\n",
        "            imp.append(n)       \n",
        "    return imp \n",
        "b = impares(L)\n",
        "print (\"La lista de pares es: \", a)\n",
        "print (\"La lista de impares es: \", b)"
      ],
      "execution_count": 59,
      "outputs": [
        {
          "output_type": "stream",
          "text": [
            "La lista de pares es:  [8, 20, 2, 20, 2, 16, 12, 16, 22, 18, 6, 6, 6, 8, 2, 20, 14, 4, 12, 24, 6, 22, 12, 14, 8, 24, 2, 6, 4, 2, 8, 20, 10, 16, 8, 2, 18, 10, 12, 8, 22, 22, 2, 8]\n",
            "La lista de impares es:  [21, 25, 15, 13, 17, 1, 17, 21, 17, 3, 1, 25, 9, 17, 7, 13, 1, 1, 13, 13, 1, 9, 19, 23, 7, 5, 19, 5, 5, 11, 23, 21, 9, 7, 13, 1, 23, 13, 25, 1, 21, 3, 19, 11, 21, 1, 17, 25, 21, 1, 23, 1, 7, 15, 5, 11]\n"
          ],
          "name": "stdout"
        }
      ]
    },
    {
      "cell_type": "markdown",
      "metadata": {
        "id": "QCFDMEMXTMNX"
      },
      "source": [
        "**Diccionarios**"
      ]
    },
    {
      "cell_type": "code",
      "metadata": {
        "colab": {
          "base_uri": "https://localhost:8080/"
        },
        "id": "moENw7UqTOwE",
        "outputId": "1cd72bf7-4b32-452a-979e-fb01f13a8339"
      },
      "source": [
        "# Crear un diccionario de 6 personas que conozcas con su primer nombre y su edad.\n",
        "dict1 = {'Laura': 16, 'Francisco': 19, 'Karla': 15,'Monse': 21, 'Adrian': 39, 'Alicia': 25}\n",
        "dict1"
      ],
      "execution_count": 137,
      "outputs": [
        {
          "output_type": "execute_result",
          "data": {
            "text/plain": [
              "{'Adrian': 39,\n",
              " 'Alicia': 25,\n",
              " 'Francisco': 19,\n",
              " 'Karla': 15,\n",
              " 'Laura': 16,\n",
              " 'Monse': 21}"
            ]
          },
          "metadata": {},
          "execution_count": 137
        }
      ]
    },
    {
      "cell_type": "code",
      "metadata": {
        "colab": {
          "base_uri": "https://localhost:8080/"
        },
        "id": "aOj_GmojTSww",
        "outputId": "4fb0404c-fefd-41e0-91d5-665aa946a44f"
      },
      "source": [
        "# Crear una lista con los valores de la edad y reacomodar la lista de menor a mayor valor.\n",
        "dict1 = {'Laura': 16, 'Francisco': 19, 'Karla': 15,'Monse': 21, 'Adrian': 39, 'Alicia': 25}\n",
        "lista = list(dict1.values())\n",
        "a = sorted(lista)\n",
        "a"
      ],
      "execution_count": 147,
      "outputs": [
        {
          "output_type": "execute_result",
          "data": {
            "text/plain": [
              "[15, 16, 19, 21, 25, 39]"
            ]
          },
          "metadata": {},
          "execution_count": 147
        }
      ]
    },
    {
      "cell_type": "code",
      "metadata": {
        "colab": {
          "base_uri": "https://localhost:8080/"
        },
        "id": "O9Ws-UqniVe6",
        "outputId": "d7f80d69-e480-4e7c-86c6-eca98892d882"
      },
      "source": [
        "# Usando el diccionario y un loop, imprimir solo los nombres.\n",
        "dict1 = {'Laura': 16, 'Francisco': 19, 'Karla': 15,'Monse': 21, 'Adrian': 39, 'Alicia': 25}\n",
        "for i in dict1: print(i)"
      ],
      "execution_count": 153,
      "outputs": [
        {
          "output_type": "stream",
          "text": [
            "Laura\n",
            "Francisco\n",
            "Karla\n",
            "Monse\n",
            "Adrian\n",
            "Alicia\n"
          ],
          "name": "stdout"
        }
      ]
    },
    {
      "cell_type": "code",
      "metadata": {
        "colab": {
          "base_uri": "https://localhost:8080/"
        },
        "id": "sSXFclo-TYRk",
        "outputId": "330377ca-d233-46e7-ab4a-0285c3cf8e13"
      },
      "source": [
        "# Añadir dos personas nuevas a tu diccionario, incluyendo edad.\n",
        "dict1 = {'Laura': 16, 'Francisco': 19, 'Karla': 15,'Monse': 21, 'Adrian': 39, 'Alicia': 25}\n",
        "dict1['Beatriz']=50\n",
        "dict1['Roberto']=48\n",
        "dict1"
      ],
      "execution_count": 152,
      "outputs": [
        {
          "output_type": "execute_result",
          "data": {
            "text/plain": [
              "{'Adrian': 39,\n",
              " 'Alicia': 25,\n",
              " 'Beatriz': 50,\n",
              " 'Francisco': 19,\n",
              " 'Karla': 15,\n",
              " 'Laura': 16,\n",
              " 'Monse': 21,\n",
              " 'Roberto': 48}"
            ]
          },
          "metadata": {},
          "execution_count": 152
        }
      ]
    },
    {
      "cell_type": "markdown",
      "metadata": {
        "id": "6PV_WPaRTciK"
      },
      "source": [
        "**Sets**"
      ]
    },
    {
      "cell_type": "code",
      "metadata": {
        "id": "oUEuljoBTdtY"
      },
      "source": [
        "# Crea un set con 100 numeros aleatorios enteros del 1 al 25.\n",
        "import random\n",
        "for i in range(100):\n",
        "  x = random.randint(1,25)\n",
        "  print(x)"
      ],
      "execution_count": null,
      "outputs": []
    },
    {
      "cell_type": "code",
      "metadata": {
        "id": "-JWtnV26Thr7"
      },
      "source": [
        "# Comprueba la longitud de tu set.\n",
        "len(set1)"
      ],
      "execution_count": null,
      "outputs": []
    },
    {
      "cell_type": "code",
      "metadata": {
        "colab": {
          "base_uri": "https://localhost:8080/"
        },
        "id": "jXz3cGc0TkTe",
        "outputId": "cf968eeb-a585-41af-b0cc-f881e1ce3d4f"
      },
      "source": [
        "# Crea una lista de 5 numeros aleatorios del 1 al 10 y comprueba si cada valor aparece en el set inicial.\n",
        "import random\n",
        "for i in range(5):\n",
        "  x = random.randint(1,10)\n",
        "  print(x)"
      ],
      "execution_count": 35,
      "outputs": [
        {
          "output_type": "stream",
          "text": [
            "6\n",
            "7\n",
            "7\n",
            "2\n",
            "2\n"
          ],
          "name": "stdout"
        }
      ]
    }
  ]
}